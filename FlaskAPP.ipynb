{
  "cells": [
    {
      "cell_type": "markdown",
      "metadata": {
        "id": "view-in-github",
        "colab_type": "text"
      },
      "source": [
        "<a href=\"https://colab.research.google.com/github/AzouzSaoussen/AzouzSaoussen/blob/main/FlaskAPP.ipynb\" target=\"_parent\"><img src=\"https://colab.research.google.com/assets/colab-badge.svg\" alt=\"Open In Colab\"/></a>"
      ]
    },
    {
      "cell_type": "markdown",
      "metadata": {
        "id": "LAGRYY9BMRZk"
      },
      "source": [
        "# **How To Use in Production**\n"
      ]
    },
    {
      "cell_type": "code",
      "execution_count": 14,
      "metadata": {
        "colab": {
          "base_uri": "https://localhost:8080/"
        },
        "id": "mUEpTaBMZhXV",
        "outputId": "7cbf1b48-5393-4523-8412-e287394ed02d"
      },
      "outputs": [
        {
          "output_type": "stream",
          "name": "stdout",
          "text": [
            "Looking in indexes: https://pypi.org/simple, https://us-python.pkg.dev/colab-wheels/public/simple/\n",
            "Requirement already satisfied: pyngrok==4.1.1 in /usr/local/lib/python3.7/dist-packages (4.1.1)\n",
            "Requirement already satisfied: future in /usr/local/lib/python3.7/dist-packages (from pyngrok==4.1.1) (0.16.0)\n",
            "Requirement already satisfied: PyYAML in /usr/local/lib/python3.7/dist-packages (from pyngrok==4.1.1) (3.13)\n"
          ]
        }
      ],
      "source": [
        "!pip install pyngrok==4.1.1"
      ]
    },
    {
      "cell_type": "code",
      "execution_count": 2,
      "metadata": {
        "colab": {
          "base_uri": "https://localhost:8080/"
        },
        "id": "MfITgGpCdGgJ",
        "outputId": "bc308d18-9dc1-482e-dd0c-3b956c8870ec"
      },
      "outputs": [
        {
          "output_type": "stream",
          "name": "stdout",
          "text": [
            "deb https://ngrok-agent.s3.amazonaws.com buster main\n",
            "Get:1 https://developer.download.nvidia.com/compute/cuda/repos/ubuntu1804/x86_64  InRelease [1,581 B]\n",
            "Get:2 https://cloud.r-project.org/bin/linux/ubuntu bionic-cran40/ InRelease [3,626 B]\n",
            "Get:3 http://security.ubuntu.com/ubuntu bionic-security InRelease [88.7 kB]\n",
            "Ign:4 https://developer.download.nvidia.com/compute/machine-learning/repos/ubuntu1804/x86_64  InRelease\n",
            "Get:5 https://developer.download.nvidia.com/compute/cuda/repos/ubuntu1804/x86_64  Packages [806 kB]\n",
            "Get:6 http://ppa.launchpad.net/c2d4u.team/c2d4u4.0+/ubuntu bionic InRelease [15.9 kB]\n",
            "Hit:7 https://developer.download.nvidia.com/compute/machine-learning/repos/ubuntu1804/x86_64  Release\n",
            "Get:8 https://ngrok-agent.s3.amazonaws.com buster InRelease [17.1 kB]\n",
            "Hit:9 http://archive.ubuntu.com/ubuntu bionic InRelease\n",
            "Get:11 http://archive.ubuntu.com/ubuntu bionic-updates InRelease [88.7 kB]\n",
            "Get:12 https://ngrok-agent.s3.amazonaws.com buster/main amd64 Packages [940 B]\n",
            "Hit:13 http://ppa.launchpad.net/cran/libgit2/ubuntu bionic InRelease\n",
            "Get:14 http://security.ubuntu.com/ubuntu bionic-security/main amd64 Packages [2,799 kB]\n",
            "Get:15 http://ppa.launchpad.net/deadsnakes/ppa/ubuntu bionic InRelease [15.9 kB]\n",
            "Get:16 http://archive.ubuntu.com/ubuntu bionic-backports InRelease [74.6 kB]\n",
            "Get:17 http://archive.ubuntu.com/ubuntu bionic-updates/main amd64 Packages [3,258 kB]\n",
            "Get:18 http://ppa.launchpad.net/graphics-drivers/ppa/ubuntu bionic InRelease [21.3 kB]\n",
            "Get:19 http://security.ubuntu.com/ubuntu bionic-security/restricted amd64 Packages [957 kB]\n",
            "Get:20 http://security.ubuntu.com/ubuntu bionic-security/universe amd64 Packages [1,512 kB]\n",
            "Get:21 http://ppa.launchpad.net/c2d4u.team/c2d4u4.0+/ubuntu bionic/main Sources [1,992 kB]\n",
            "Get:22 http://archive.ubuntu.com/ubuntu bionic-updates/restricted amd64 Packages [1,014 kB]\n",
            "Get:23 http://archive.ubuntu.com/ubuntu bionic-updates/universe amd64 Packages [2,289 kB]\n",
            "Get:24 http://ppa.launchpad.net/c2d4u.team/c2d4u4.0+/ubuntu bionic/main amd64 Packages [1,021 kB]\n",
            "Get:25 http://ppa.launchpad.net/deadsnakes/ppa/ubuntu bionic/main amd64 Packages [45.3 kB]\n",
            "Get:26 http://ppa.launchpad.net/graphics-drivers/ppa/ubuntu bionic/main amd64 Packages [47.7 kB]\n",
            "Fetched 16.1 MB in 8s (1,995 kB/s)\n",
            "Reading package lists... Done\n",
            "Building dependency tree       \n",
            "Reading state information... Done\n",
            "70 packages can be upgraded. Run 'apt list --upgradable' to see them.\n",
            "Reading package lists... Done\n",
            "Building dependency tree       \n",
            "Reading state information... Done\n",
            "The following package was automatically installed and is no longer required:\n",
            "  libnvidia-common-460\n",
            "Use 'sudo apt autoremove' to remove it.\n",
            "The following NEW packages will be installed:\n",
            "  ngrok\n",
            "0 upgraded, 1 newly installed, 0 to remove and 70 not upgraded.\n",
            "Need to get 5,451 kB of archives.\n",
            "After this operation, 0 B of additional disk space will be used.\n",
            "Get:1 https://ngrok-agent.s3.amazonaws.com buster/main amd64 ngrok amd64 3.0.3 [5,451 kB]\n",
            "Fetched 5,451 kB in 2s (3,212 kB/s)\n",
            "debconf: unable to initialize frontend: Dialog\n",
            "debconf: (No usable dialog-like program is installed, so the dialog based frontend cannot be used. at /usr/share/perl5/Debconf/FrontEnd/Dialog.pm line 76, <> line 1.)\n",
            "debconf: falling back to frontend: Readline\n",
            "debconf: unable to initialize frontend: Readline\n",
            "debconf: (This frontend requires a controlling tty.)\n",
            "debconf: falling back to frontend: Teletype\n",
            "dpkg-preconfigure: unable to re-open stdin: \n",
            "Selecting previously unselected package ngrok.\n",
            "(Reading database ... 155632 files and directories currently installed.)\n",
            "Preparing to unpack .../archives/ngrok_3.0.3_amd64.deb ...\n",
            "Unpacking ngrok (3.0.3) ...\n",
            "Setting up ngrok (3.0.3) ...\n"
          ]
        }
      ],
      "source": [
        "!curl -s https://ngrok-agent.s3.amazonaws.com/ngrok.asc | sudo tee /etc/apt/trusted.gpg.d/ngrok.asc >/dev/null && echo \"deb https://ngrok-agent.s3.amazonaws.com buster main\" | sudo tee /etc/apt/sources.list.d/ngrok.list && sudo apt update && sudo apt install ngrok\n",
        "            "
      ]
    },
    {
      "cell_type": "code",
      "execution_count": 3,
      "metadata": {
        "colab": {
          "base_uri": "https://localhost:8080/"
        },
        "id": "zvaZhcstdxeM",
        "outputId": "fe9bdecc-1fec-4f86-a80d-ba22fbefac80"
      },
      "outputs": [
        {
          "output_type": "stream",
          "name": "stdout",
          "text": [
            "aranorm.py  drive  sample_data\n"
          ]
        }
      ],
      "source": [
        "!ls\n"
      ]
    },
    {
      "cell_type": "code",
      "execution_count": 4,
      "metadata": {
        "colab": {
          "base_uri": "https://localhost:8080/"
        },
        "id": "QO5XZEd5ddfX",
        "outputId": "3f3bab2c-1475-4c26-919b-8e406862d63a"
      },
      "outputs": [
        {
          "output_type": "stream",
          "name": "stdout",
          "text": [
            "Authtoken saved to configuration file: /root/.config/ngrok/ngrok.yml\n"
          ]
        }
      ],
      "source": [
        "!ngrok authtoken 2ACrflX7ISTfvzCu6OgVaSmDiPo_2iByuhwjyTdnwXfsZHGtf"
      ]
    },
    {
      "cell_type": "code",
      "execution_count": 5,
      "metadata": {
        "colab": {
          "base_uri": "https://localhost:8080/"
        },
        "id": "POvBEIuiLdTg",
        "outputId": "2b11954b-7ae6-400b-c17e-2690c5e53cdc"
      },
      "outputs": [
        {
          "output_type": "stream",
          "name": "stdout",
          "text": [
            "Looking in indexes: https://pypi.org/simple, https://us-python.pkg.dev/colab-wheels/public/simple/\n",
            "Collecting flask_ngrok\n",
            "  Downloading flask_ngrok-0.0.25-py3-none-any.whl (3.1 kB)\n",
            "Requirement already satisfied: requests in /usr/local/lib/python3.7/dist-packages (from flask_ngrok) (2.23.0)\n",
            "Requirement already satisfied: Flask>=0.8 in /usr/local/lib/python3.7/dist-packages (from flask_ngrok) (1.1.4)\n",
            "Requirement already satisfied: Jinja2<3.0,>=2.10.1 in /usr/local/lib/python3.7/dist-packages (from Flask>=0.8->flask_ngrok) (2.11.3)\n",
            "Requirement already satisfied: Werkzeug<2.0,>=0.15 in /usr/local/lib/python3.7/dist-packages (from Flask>=0.8->flask_ngrok) (1.0.1)\n",
            "Requirement already satisfied: itsdangerous<2.0,>=0.24 in /usr/local/lib/python3.7/dist-packages (from Flask>=0.8->flask_ngrok) (1.1.0)\n",
            "Requirement already satisfied: click<8.0,>=5.1 in /usr/local/lib/python3.7/dist-packages (from Flask>=0.8->flask_ngrok) (7.1.2)\n",
            "Requirement already satisfied: MarkupSafe>=0.23 in /usr/local/lib/python3.7/dist-packages (from Jinja2<3.0,>=2.10.1->Flask>=0.8->flask_ngrok) (2.0.1)\n",
            "Requirement already satisfied: certifi>=2017.4.17 in /usr/local/lib/python3.7/dist-packages (from requests->flask_ngrok) (2022.5.18.1)\n",
            "Requirement already satisfied: idna<3,>=2.5 in /usr/local/lib/python3.7/dist-packages (from requests->flask_ngrok) (2.10)\n",
            "Requirement already satisfied: urllib3!=1.25.0,!=1.25.1,<1.26,>=1.21.1 in /usr/local/lib/python3.7/dist-packages (from requests->flask_ngrok) (1.24.3)\n",
            "Requirement already satisfied: chardet<4,>=3.0.2 in /usr/local/lib/python3.7/dist-packages (from requests->flask_ngrok) (3.0.4)\n",
            "Installing collected packages: flask-ngrok\n",
            "Successfully installed flask-ngrok-0.0.25\n"
          ]
        }
      ],
      "source": [
        "!pip install flask_ngrok"
      ]
    },
    {
      "cell_type": "code",
      "execution_count": 6,
      "metadata": {
        "colab": {
          "base_uri": "https://localhost:8080/"
        },
        "id": "ECKdeLk7LlZj",
        "outputId": "d89c4c62-d676-401f-c320-1fa0aa9c9383"
      },
      "outputs": [
        {
          "output_type": "stream",
          "name": "stdout",
          "text": [
            "Looking in indexes: https://pypi.org/simple, https://us-python.pkg.dev/colab-wheels/public/simple/\n",
            "Collecting farasapy\n",
            "  Downloading farasapy-0.0.14-py3-none-any.whl (11 kB)\n",
            "Requirement already satisfied: requests in /usr/local/lib/python3.7/dist-packages (from farasapy) (2.23.0)\n",
            "Requirement already satisfied: tqdm in /usr/local/lib/python3.7/dist-packages (from farasapy) (4.64.0)\n",
            "Requirement already satisfied: chardet<4,>=3.0.2 in /usr/local/lib/python3.7/dist-packages (from requests->farasapy) (3.0.4)\n",
            "Requirement already satisfied: urllib3!=1.25.0,!=1.25.1,<1.26,>=1.21.1 in /usr/local/lib/python3.7/dist-packages (from requests->farasapy) (1.24.3)\n",
            "Requirement already satisfied: certifi>=2017.4.17 in /usr/local/lib/python3.7/dist-packages (from requests->farasapy) (2022.5.18.1)\n",
            "Requirement already satisfied: idna<3,>=2.5 in /usr/local/lib/python3.7/dist-packages (from requests->farasapy) (2.10)\n",
            "Installing collected packages: farasapy\n",
            "Successfully installed farasapy-0.0.14\n"
          ]
        }
      ],
      "source": [
        "!pip install farasapy"
      ]
    },
    {
      "cell_type": "code",
      "execution_count": 7,
      "metadata": {
        "id": "pd8IhZdK0phU"
      },
      "outputs": [],
      "source": [
        "import sys\n",
        "import pickle"
      ]
    },
    {
      "cell_type": "code",
      "execution_count": 8,
      "metadata": {
        "id": "enfLpR75MNhD"
      },
      "outputs": [],
      "source": [
        "experiment_folder = '/content/drive/My Drive/sentiment_analysis_project'\n",
        "sys.path.append(experiment_folder)"
      ]
    },
    {
      "cell_type": "code",
      "execution_count": 9,
      "metadata": {
        "id": "-VZ6D81U0cwl"
      },
      "outputs": [],
      "source": [
        "vectorizer = pickle.load(open(f'{experiment_folder}/vectorizer.pkl', 'rb'))\n",
        "logistic_reg = pickle.load(open(f'{experiment_folder}/logistic_reg.pkl', 'rb'))\n",
        "mnb = pickle.load(open(f'{experiment_folder}/mnb.pkl', 'rb'))\n",
        "svm = pickle.load(open(f'{experiment_folder}/svm.pkl', 'rb'))\n",
        "rf = pickle.load(open(f'{experiment_folder}/rf.pkl', 'rb'))\n",
        "mlp = pickle.load(open(f'{experiment_folder}/mlp.pkl', 'rb'))\n",
        "\n",
        "neu_vectorizer = pickle.load(open(f'{experiment_folder}/neu_vectorizer.pkl', 'rb'))\n",
        "neu_logistic_reg = pickle.load(open(f'{experiment_folder}/neu_logistic_reg.pkl', 'rb'))\n",
        "neu_mnb = pickle.load(open(f'{experiment_folder}/neu_mnb.pkl', 'rb'))\n",
        "neu_svm = pickle.load(open(f'{experiment_folder}/neu_svm.pkl', 'rb'))\n",
        "neu_rf = pickle.load(open(f'{experiment_folder}/neu_rf.pkl', 'rb'))\n",
        "neu_mlp = pickle.load(open(f'{experiment_folder}/neu_mlp.pkl', 'rb'))"
      ]
    },
    {
      "cell_type": "code",
      "execution_count": 10,
      "metadata": {
        "id": "rvqh1zQFqoa-"
      },
      "outputs": [],
      "source": [
        "def predict_multi_level(X, neu_mlp, neu_clf, mlp, clf):\n",
        "    #return clf.predict(vectorizer.transform(X))\n",
        "    neu_y_pred = neu_clf.predict(neu_mlp.transform(X))\n",
        "    if len(X[neu_y_pred == 'NonNeutral']) > 0:\n",
        "        y_pred = clf.predict(mlp.transform(X[neu_y_pred == 'NonNeutral'])) # classify non neutral into positive or negative\n",
        "        neu_y_pred[neu_y_pred == 'NonNeutral'] = y_pred\n",
        "    \n",
        "    final_y_pred = neu_y_pred\n",
        "    return final_y_pred"
      ]
    },
    {
      "cell_type": "code",
      "execution_count": 11,
      "metadata": {
        "id": "1vtKDoL3j614"
      },
      "outputs": [],
      "source": [
        "def predict_ByUser(X,predict,clf,neu_clf,neu_svm,svm):\n",
        "      neu_y_pred = neu_clf.predict(neu_svm.transform(X))\n",
        "      if len(X[neu_y_pred == 'NonNeutral']) > 0:\n",
        "        if(predict==vectorizer):\n",
        "           y_pred = clf.predict(vectorizer.transform(X[neu_y_pred == 'NonNeutral'])) # classify non neutral into positive or negative\n",
        "           neu_y_pred[neu_y_pred == 'NonNeutral'] = y_pred\n",
        "        elif (predict==logistic_reg):\n",
        "           y_pred = clf.predict(logistic_reg.transform(X[neu_y_pred == 'NonNeutral'])) # classify non neutral into positive or negative\n",
        "           neu_y_pred[neu_y_pred == 'NonNeutral'] = y_pred\n",
        "        elif(predict==mnb):\n",
        "           y_pred = clf.predict(mnb.transform(X[neu_y_pred == 'NonNeutral'])) # classify non neutral into positive or negative\n",
        "           neu_y_pred[neu_y_pred == 'NonNeutral'] = y_pred\n",
        "        elif(predict==svm):\n",
        "           y_pred = clf.predict(svm.transform(X[neu_y_pred == 'NonNeutral'])) # classify non neutral into positive or negative\n",
        "           neu_y_pred[neu_y_pred == 'NonNeutral'] = y_pred\n",
        "        elif(predict==rf):\n",
        "           y_pred = clf.predict(rf.transform(X[neu_y_pred == 'NonNeutral'])) # classify non neutral into positive or negative\n",
        "           neu_y_pred[neu_y_pred == 'NonNeutral'] = y_pred\n",
        "        else:\n",
        "           y_pred = clf.predict(mlp.transform(X[neu_y_pred == 'NonNeutral'])) # classify non neutral into positive or negative\n",
        "           neu_y_pred[neu_y_pred == 'NonNeutral'] = y_pred\n",
        "  \n",
        "      final_y_pred = neu_y_pred\n",
        "      return final_y_pred\n",
        "    "
      ]
    },
    {
      "cell_type": "markdown",
      "metadata": {
        "id": "W2inayBDLAZ5"
      },
      "source": [
        "# **Flask App To Serve Our Models**"
      ]
    },
    {
      "cell_type": "code",
      "execution_count": 12,
      "metadata": {
        "colab": {
          "base_uri": "https://localhost:8080/"
        },
        "id": "SbqDy3AXK1pg",
        "outputId": "05d1c165-7b18-42a6-df52-ebf143026e68"
      },
      "outputs": [
        {
          "output_type": "stream",
          "name": "stderr",
          "text": [
            "/usr/local/lib/python3.7/dist-packages/urllib3/connectionpool.py:847: InsecureRequestWarning: Unverified HTTPS request is being made. Adding certificate verification is strongly advised. See: https://urllib3.readthedocs.io/en/latest/advanced-usage.html#ssl-warnings\n",
            "  InsecureRequestWarning)\n"
          ]
        },
        {
          "output_type": "stream",
          "name": "stdout",
          "text": [
            "100%|██████████| 241M/241M [00:15<00:00, 15.8MiB/s]\n"
          ]
        },
        {
          "output_type": "stream",
          "name": "stderr",
          "text": [
            "[2022-06-08 04:22:18,872 - farasapy_logger - WARNING]: Be careful with large lines as they may break on interactive mode. You may switch to Standalone mode for such cases.\n"
          ]
        },
        {
          "output_type": "stream",
          "name": "stdout",
          "text": [
            " * Serving Flask app \"__main__\" (lazy loading)\n",
            " * Environment: production\n",
            "\u001b[31m   WARNING: This is a development server. Do not use it in a production deployment.\u001b[0m\n",
            "\u001b[2m   Use a production WSGI server instead.\u001b[0m\n",
            " * Debug mode: off\n"
          ]
        },
        {
          "output_type": "stream",
          "name": "stderr",
          "text": [
            " * Running on http://127.0.0.1:5000/ (Press CTRL+C to quit)\n"
          ]
        },
        {
          "output_type": "stream",
          "name": "stdout",
          "text": [
            " * Running on http://602b-130-211-248-140.ngrok.io\n",
            " * Traffic stats available on http://127.0.0.1:4040\n"
          ]
        },
        {
          "output_type": "stream",
          "name": "stderr",
          "text": [
            "127.0.0.1 - - [08/Jun/2022 04:45:44] \"\u001b[37mGET / HTTP/1.1\u001b[0m\" 200 -\n",
            "127.0.0.1 - - [08/Jun/2022 04:45:45] \"\u001b[37mGET / HTTP/1.1\u001b[0m\" 200 -\n",
            "127.0.0.1 - - [08/Jun/2022 04:52:10] \"\u001b[37mGET / HTTP/1.1\u001b[0m\" 200 -\n",
            "127.0.0.1 - - [08/Jun/2022 04:52:11] \"\u001b[33mGET /favicon.ico HTTP/1.1\u001b[0m\" 404 -\n"
          ]
        }
      ],
      "source": [
        "import aranorm as aranorm\n",
        "import numpy as np\n",
        "\n",
        "from flask import Flask, flash, request, redirect, url_for\n",
        "from werkzeug.utils import secure_filename\n",
        "from flask_ngrok import run_with_ngrok\n",
        "\n",
        "app = Flask(__name__)\n",
        "run_with_ngrok(app)   \n",
        "\n",
        "\n",
        "@app.route('/', methods=['GET', 'POST'])\n",
        "def upload_file():\n",
        "    if request.method == 'POST':\n",
        "        # check if the post request has the file part\n",
        "        if 'input_text' not in request.form:\n",
        "            flash('No text found!')\n",
        "            return redirect(request.url)\n",
        "\n",
        "        text = request.form['input_text']\n",
        "        # text = stemmer.stem(text)\n",
        "        text = aranorm.normalize_arabic_text(text)\n",
        "        if text == '':\n",
        "            return 'Please, write an Arabic sentance. Symbols and non-Arabic characters will be removed from the text....'\n",
        "        print(f'text: {text}')\n",
        "        predcited_sentiment = predict_multi_level(np.array([text]), neu_vectorizer, neu_svm, vectorizer, mnb)\n",
        "        predcited_sentiment = str(predcited_sentiment.squeeze())\n",
        "        print(\"Predicted Sentiment:\", predcited_sentiment)\n",
        "        return predcited_sentiment\n",
        "    \n",
        "    return '''<!doctype html>\n",
        "<title>تحليل المشاعر من التغريدات</title>\n",
        "<script>\n",
        "function myFunction()\n",
        "{\n",
        "    // clear the output text box from the text\n",
        "    output_text_box = document.getElementById('output_text');\n",
        "    output_text_box.innerHTML = '';\n",
        "   \n",
        "    var elements = document.getElementsByClassName(\"formVal\");\n",
        "    var formData = new FormData(); \n",
        "    \n",
        "    for(var i=0; i<elements.length; i++)\n",
        "    {\n",
        "        formData.append(elements[i].name, elements[i].value);\n",
        "    }\n",
        "    var xmlHttp = new XMLHttpRequest();\n",
        "        xmlHttp.onreadystatechange = function()\n",
        "        {\n",
        "            if(xmlHttp.readyState == 4 && xmlHttp.status == 200)\n",
        "            {\n",
        "                response = xmlHttp.responseText;\n",
        "                output_text_box = document.getElementById('output_text');\n",
        "                console.log(response);\n",
        "                output_text_box.innerHTML = response;\n",
        "            }\n",
        "        }\n",
        "        xmlHttp.open(\"post\", \"/\"); \n",
        "        xmlHttp.send(formData); \n",
        "}\n",
        "</script>\n",
        "<h1>تحليل المشاعر من التغريدات</h1>\n",
        "<p>مثال: أحب أمي و أبي</p>\n",
        "<form method=post enctype=multipart/form-data>\n",
        "  <textarea id=\"input_text\"class='formVal' rows=\"5\" cols=\"50\" type=\"text\" name=\"input_text\" placeholder=\"التغريدة\"></textarea> <br>\n",
        "  <textarea id=\"output_text\" class='formVal' rows=\"5\" cols=\"50\" type=\"text\" name=\"output_text\" placeholder=\"المشاعر المتوقعة\"></textarea>\n",
        "  <input type=\"submit\" value=\"submit_now\" onclick=\"myFunction(); return false;\">\n",
        "</form>\n",
        "\n",
        "</html>\n",
        "    '''\n",
        "app.run()"
      ]
    },
    {
      "cell_type": "markdown",
      "metadata": {
        "id": "xQ2m1JDZY2Cu"
      },
      "source": [
        "## Flask App V1.2"
      ]
    },
    {
      "cell_type": "code",
      "execution_count": 13,
      "metadata": {
        "colab": {
          "base_uri": "https://localhost:8080/"
        },
        "id": "ZpEKtmzop9sQ",
        "outputId": "c692496e-2cf6-4a62-8477-a0fac16343f2"
      },
      "outputs": [
        {
          "output_type": "stream",
          "name": "stdout",
          "text": [
            " * Serving Flask app \"__main__\" (lazy loading)\n",
            " * Environment: production\n",
            "\u001b[31m   WARNING: This is a development server. Do not use it in a production deployment.\u001b[0m\n",
            "\u001b[2m   Use a production WSGI server instead.\u001b[0m\n",
            " * Debug mode: off\n"
          ]
        },
        {
          "output_type": "stream",
          "name": "stderr",
          "text": [
            " * Running on http://127.0.0.1:5000/ (Press CTRL+C to quit)\n"
          ]
        },
        {
          "output_type": "stream",
          "name": "stdout",
          "text": [
            " * Running on http://35b2-130-211-248-140.ngrok.io\n",
            " * Traffic stats available on http://127.0.0.1:4040\n"
          ]
        }
      ],
      "source": [
        "\"\"\"import aranorm as aranorm\n",
        "import numpy as np\n",
        "\n",
        "from flask import Flask, flash, request, redirect, url_for, render_template\n",
        "from werkzeug.utils import secure_filename\n",
        "from flask_ngrok import run_with_ngrok\n",
        "\n",
        "app = Flask(__name__)\n",
        "run_with_ngrok(app)   \n",
        "\n",
        "\n",
        "@app.route('/', methods=['GET', 'POST'])\n",
        "def upload_file():\n",
        "    if request.method == 'POST':\n",
        "        # check if the post request has the file part\n",
        "        if 'input_text' not in request.form:\n",
        "            flash('No text found!')\n",
        "            return redirect(request.url)\n",
        "        predict = request.form.get('comp_select')\n",
        "        neu_predict = request.form.get('comp_select_neutral')\n",
        "        text = request.form['input_text']\n",
        "        # text = stemmer.stem(text)\n",
        "        text = aranorm.normalize_arabic_text(text)\n",
        "        if text == '':\n",
        "            return 'Please, write an Arabic sentance. Symbols and non-Arabic characters will be removed from the text....'\n",
        "        print(f'text: {text}')\n",
        "        predcited_sentiment = predict_multi_level(np.array([text]), neu_mlp, neu_predict, mlp, predict)\n",
        "        predcited_sentiment = str(predcited_sentiment.squeeze())\n",
        "    \n",
        "        print(\"Predicted Sentiment:\", predcited_sentiment)\n",
        "        return predcited_sentiment\n",
        "    \n",
        "    return render_template('content/drive/My Drive/sentiment_analysis_project/index.html')\n",
        "\n",
        "app.run()\"\"\""
      ]
    },
    {
      "cell_type": "code",
      "execution_count": 13,
      "metadata": {
        "id": "0QTS3-_whoie"
      },
      "outputs": [],
      "source": [
        ""
      ]
    },
    {
      "cell_type": "code",
      "execution_count": 13,
      "metadata": {
        "id": "QtIBW2z1hoN4"
      },
      "outputs": [],
      "source": [
        ""
      ]
    }
  ],
  "metadata": {
    "colab": {
      "collapsed_sections": [],
      "name": "FlaskAPP.ipynb",
      "provenance": [],
      "mount_file_id": "1ixEawdXP_un6GrkgjCr1laZuL57JeOAP",
      "authorship_tag": "ABX9TyPKSDjrKFf2hLPpDKUXRtUq",
      "include_colab_link": true
    },
    "kernelspec": {
      "display_name": "Python 3",
      "name": "python3"
    },
    "language_info": {
      "name": "python"
    }
  },
  "nbformat": 4,
  "nbformat_minor": 0
}